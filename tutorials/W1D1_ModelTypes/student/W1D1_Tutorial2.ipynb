{
 "cells": [
  {
   "cell_type": "markdown",
   "metadata": {
    "colab_type": "text",
    "id": "view-in-github"
   },
   "source": [
    "<a href=\"https://colab.research.google.com/github/NeuromatchAcademy/course-content/blob/master/tutorials/W1D1_ModelTypes/student/W1D1_Tutorial2.ipynb\" target=\"_parent\"><img src=\"https://colab.research.google.com/assets/colab-badge.svg\" alt=\"Open In Colab\"/></a>"
   ]
  },
  {
   "cell_type": "markdown",
   "metadata": {
    "colab_type": "text",
    "id": "HwYPw4CvrYCV"
   },
   "source": [
    "#  NMA Model Types Tutorial 2: \"How\" models\n",
    "\n",
    "In this tutorial we will explore models that can potentially explain *how* the spiking data we have observed is produced. That is, the models will tell us something about the *mechanism* underlying the physiological phenomenon.\n",
    "\n",
    "Our objectives:\n",
    "- Write code to simulate a  simple \"leaky integrate-and-fire\" neuron model\n",
    "- Make the model more complicated — but also more realistic — by adding more physiologically-inspired details"
   ]
  },
  {
   "cell_type": "code",
   "execution_count": 1,
   "metadata": {
    "cellView": "form",
    "colab": {
     "base_uri": "https://localhost:8080/",
     "height": 519
    },
    "colab_type": "code",
    "id": "nfdfxF_ee8sZ",
    "outputId": "26bd0ee4-4ac1-45b3-d75c-2425ac20a06b"
   },
   "outputs": [
    {
     "name": "stdout",
     "output_type": "stream",
     "text": [
      "Video available at https://youtube.com/watch?v=yWPQsBud4Cc\n"
     ]
    },
    {
     "data": {
      "text/html": [
       "\n",
       "        <iframe\n",
       "            width=\"854\"\n",
       "            height=\"480\"\n",
       "            src=\"https://www.youtube.com/embed/yWPQsBud4Cc?fs=1\"\n",
       "            frameborder=\"0\"\n",
       "            allowfullscreen\n",
       "        ></iframe>\n",
       "        "
      ],
      "text/plain": [
       "<IPython.lib.display.YouTubeVideo at 0x7f25dc10bf10>"
      ]
     },
     "execution_count": 1,
     "metadata": {},
     "output_type": "execute_result"
    }
   ],
   "source": [
    "#@title Video: \"How\" models\n",
    "from IPython.display import YouTubeVideo\n",
    "video = YouTubeVideo(id='yWPQsBud4Cc', width=854, height=480, fs=1)\n",
    "print(\"Video available at https://youtube.com/watch?v=\" + video.id)\n",
    "video"
   ]
  },
  {
   "cell_type": "markdown",
   "metadata": {
    "colab_type": "text",
    "id": "yQN8ug6asey4"
   },
   "source": [
    "## Setup\n",
    "\n",
    "**Don't forget to execute the hidden cells!**"
   ]
  },
  {
   "cell_type": "code",
   "execution_count": 2,
   "metadata": {
    "cellView": "form",
    "colab": {},
    "colab_type": "code",
    "id": "w6RPNLB6rYCW"
   },
   "outputs": [],
   "source": [
    "#@title Imports\n",
    "import matplotlib.pyplot as plt\n",
    "import numpy as np\n",
    "import scipy.stats as stats\n",
    "\n",
    "import ipywidgets as widgets"
   ]
  },
  {
   "cell_type": "code",
   "execution_count": 3,
   "metadata": {
    "cellView": "form",
    "colab": {},
    "colab_type": "code",
    "id": "CK1bXaOgrYCZ"
   },
   "outputs": [],
   "source": [
    "#@title Helper Functions\n",
    "def histogram(counts, bins, vlines=(), ax=None, ax_args=None, **kwargs):\n",
    "  \"\"\"Plot a step histogram given counts over bins.\"\"\"\n",
    "  if ax is None:\n",
    "    _, ax = plt.subplots()\n",
    "    \n",
    "  # duplicate the first element of `counts` to match bin edges\n",
    "  counts = np.insert(counts, 0, counts[0])\n",
    "\n",
    "  ax.fill_between(bins, counts, step=\"pre\", alpha=0.4, **kwargs)  # area shading\n",
    "  ax.plot(bins, counts, drawstyle=\"steps\", **kwargs)  # lines\n",
    "\n",
    "  for x in vlines:\n",
    "    ax.axvline(x, color='r', linestyle='dotted')  # vertical line\n",
    "\n",
    "  if ax_args is None:\n",
    "    ax_args = {}\n",
    "\n",
    "  # heuristically set max y to leave a bit of room\n",
    "  ymin, ymax = ax_args.get('ylim', [None, None])\n",
    "  if ymax is None: \n",
    "    ymax = np.max(counts)\n",
    "    if ax_args.get('yscale', 'linear') == 'log':\n",
    "      ymax *= 1.5\n",
    "    else:\n",
    "      ymax *= 1.1\n",
    "      if ymin is None:\n",
    "        ymin = 0\n",
    "\n",
    "  if ymax == ymin:\n",
    "    ymax = None\n",
    "  \n",
    "  ax_args['ylim'] = [ymin, ymax]\n",
    "  \n",
    "  ax.set(**ax_args)\n",
    "  ax.autoscale(enable=False, axis='x', tight=True)\n",
    "\n",
    "\n",
    "def plot_neuron_stats(v, spike_times):\n",
    "  fig, (ax1, ax2) = plt.subplots(ncols=2, figsize=(12, 5))\n",
    "  \n",
    "  # membrane voltage trace  \n",
    "  ax1.plot(v[0:100])\n",
    "  ax1.set(xlabel='Time', ylabel='Voltage')\n",
    "  # plot spike events\n",
    "  for x in spike_times:\n",
    "    if x >= 100:\n",
    "      break\n",
    "    ax1.axvline(x, color='limegreen')\n",
    "\n",
    "  # ISI distribution \n",
    "  isi = np.diff(spike_times)\n",
    "  n_bins = bins = np.arange(isi.min(), isi.max() + 2) - .5\n",
    "  counts, bins = np.histogram(isi, bins)\n",
    "  vlines = []\n",
    "  if len(isi) > 0:\n",
    "    vlines = [np.mean(isi)]    \n",
    "  xmax = max(20, int(bins[-1])+5)\n",
    "  histogram(counts, bins, vlines=vlines, ax=ax2, ax_args={\n",
    "    'xlabel': 'Inter-spike interval',\n",
    "    'ylabel': 'Number of intervals',\n",
    "    'xlim': [0, xmax]\n",
    "  }) "
   ]
  },
  {
   "cell_type": "markdown",
   "metadata": {
    "colab_type": "text",
    "id": "kOxLk8AvrYCe"
   },
   "source": [
    "## The Linear Integrate-and-Fire Neuron\n",
    "\n",
    "One of the simplest models of spiking neuron behavior is the linear integrate-and-fire model neuron. In this model, the neuron increases its membrane potential $V_m$ over time in response to excitatory input currents $I$ scaled by some factor $\\alpha$:\n",
    "\n",
    "\\begin{align}\n",
    "  dV_m = {\\alpha}I\n",
    "\\end{align}\n",
    "\n",
    "Once $V_m$ reaches a threshold value of 1, a spike is emitted, the neuron resets $V_m$ back to 0, and the process continues.\n",
    "\n",
    "#### Spiking Inputs\n",
    "\n",
    "We now have a model for the neuron dynamics. Next we need to consider what form the input $I$ will take. How should we represent the presynaptic neuron firing behavior providing the input coming into our model nueuron? We learned previously that a good approximation of spike timing is a Poisson random variable, so we can do that here as well\n",
    "\n",
    "\\begin{align}\n",
    "  I \\sim Poisson(\\lambda)\n",
    "\\end{align}\n",
    "\n",
    "where $\\lambda$ is the average rate of incoming spikes."
   ]
  },
  {
   "cell_type": "markdown",
   "metadata": {
    "colab_type": "text",
    "id": "Ls8CsM2Pf7LQ"
   },
   "source": [
    "### Exercise: Compute $dV_m$\n",
    "\n",
    "For your first exercise, you will write the code to compute the change in voltage $dV_m$ of the linear integrate-and-fire model neuron. The rest of the code to handle the neuron dynamics are provided for you, so you just need to fill in a definition for `dv` in the `lif_neuron` method below. The value for $\\lambda$ needed for the Poisson random variable is named `rate`.\n",
    "\n",
    "TIP: The [`scipy.stats`](https://docs.scipy.org/doc/scipy/reference/stats.html) package is a great resource for working with and sampling from various probability distributions."
   ]
  },
  {
   "cell_type": "code",
   "execution_count": 4,
   "metadata": {
    "colab": {},
    "colab_type": "code",
    "id": "HQU61YUDrYCe"
   },
   "outputs": [],
   "source": [
    "def lif_neuron(n_steps=1000, alpha=0.01, rate=10):\n",
    "  \"\"\" Simulate a linear integrate-and-fire neuron.\n",
    "\n",
    "  Args:\n",
    "    n_steps (int): The number of time steps to simulate the neuron's activity.\n",
    "    alpha (float): The input scaling factor\n",
    "    rate (int): The mean rate of incoming spikes\n",
    "\n",
    "  \"\"\"\n",
    "  v = np.zeros(n_steps)\n",
    "  spike_times = []\n",
    "  for i in range(1, n_steps):\n",
    "\n",
    "    #######################################################################\n",
    "    ## TODO for students: compute dv, then remove the NotImplementedError #\n",
    "    #######################################################################\n",
    "    # dv = ...\n",
    "    raise NotImplementedError(\"Student excercise: compute the change in membrane potential\")\n",
    "\n",
    "    v[i] = v[i-1] + dv\n",
    "    if v[i] > 1:\n",
    "      spike_times.append(i)\n",
    "      v[i] = 0\n",
    "  \n",
    "  return v, spike_times\n",
    "\n",
    "# Uncomment these lines after completing the lif_neuron function\n",
    "# v, spike_times = lif_neuron()\n",
    "# plot_neuron_stats(v, spike_times)"
   ]
  },
  {
   "cell_type": "markdown",
   "metadata": {
    "cellView": "both",
    "colab": {
     "base_uri": "https://localhost:8080/",
     "height": 340
    },
    "colab_type": "text",
    "id": "u-oCuaFAiRi5",
    "outputId": "3e4c9e97-cd68-4b4a-d346-4baea254e082"
   },
   "source": [
    "[*Click for solution*](https://github.com/NeuromatchAcademy/course-content/tree/master//tutorials/W1D1_ModelTypes/solutions/W1D1_Tutorial2_Solution_f0c3783f.py)\n",
    "\n",
    "*Example output:*\n",
    "\n",
    "<img alt='Solution hint' align='left' width=749 height=331 src=https://raw.githubusercontent.com/NeuromatchAcademy/course-content/master/tutorials/W1D1_ModelTypes/static/W1D1_Tutorial2_Solution_f0c3783f_0.png>\n",
    "\n"
   ]
  },
  {
   "cell_type": "markdown",
   "metadata": {
    "colab_type": "text",
    "id": "V9xEZVAHr5Kv"
   },
   "source": [
    "### Parameter Exploration\n",
    "\n",
    "Here's an interactive demo that shows how the model behavior changes for different parameter values.\n",
    "\n",
    "**Remember to enable the demo by running the cell.**"
   ]
  },
  {
   "cell_type": "code",
   "execution_count": 6,
   "metadata": {
    "cellView": "form",
    "colab": {
     "base_uri": "https://localhost:8080/",
     "height": 430,
     "referenced_widgets": [
      "ceba379285d8420eab122d92e37cf614",
      "ce36febaaf2d4393b40ea270eea78bda",
      "335dc79d7de5472b8feab6962ba2c5d8",
      "f03f445c87fd41daa39efbe68c55afe6",
      "91bbca9d32e44b579f90cc2c57af6162",
      "1251eebb98c44304bb2b44b5967e04ed",
      "13178c66d344425e8033ccb71d5952cd",
      "bfbb00cee53142b0be230d2911200e78",
      "98600f1df3694f7f8f395241786bf8ec",
      "ecb5043cdcd045459f0d2f465d32e697",
      "08eb3e8bd87e4a5cb948b77c693f3355",
      "d660979bd65949ff86436c25f2971593",
      "cb20954f9e4e40189e7517984d429f9e"
     ]
    },
    "colab_type": "code",
    "id": "RRjD0G3nrYCh",
    "outputId": "f1ca24c3-098d-4482-d39e-8dd705d6b790"
   },
   "outputs": [
    {
     "data": {
      "image/png": "[encoded data removed]",
      "text/plain": [
       "<Figure size 864x360 with 2 Axes>"
      ]
     },
     "metadata": {
      "needs_background": "light"
     },
     "output_type": "display_data"
    }
   ],
   "source": [
    "#@title Linear Integrate-and-Fire Model Neuron Explorer\n",
    "\n",
    "def _lif_neuron(n_steps=1000, alpha=0.01, rate=10):\n",
    "  exc = stats.poisson(rate).rvs(n_steps)\n",
    "  v = np.zeros(n_steps)\n",
    "  spike_times = []\n",
    "  for i in range(1, n_steps):\n",
    "    dv = alpha * exc[i]\n",
    "    v[i] = v[i-1] + dv\n",
    "    if v[i] > 1:\n",
    "      spike_times.append(i)\n",
    "      v[i] = 0\n",
    "  return v, spike_times\n",
    "\n",
    "@widgets.interact(\n",
    "  n_steps=widgets.FloatLogSlider(1000.0, min=2, max=4),\n",
    "  alpha=widgets.FloatLogSlider(0.01, min=-4, max=-1),\n",
    "  rate=widgets.IntSlider(10, min=1, max=20)\n",
    ")\n",
    "def plot_lif_neuron(n_steps=1000, alpha=0.01, rate=10):\n",
    "  v, spike_times = _lif_neuron(int(n_steps), alpha, rate)\n",
    "  plot_neuron_stats(v, spike_times)"
   ]
  },
  {
   "cell_type": "markdown",
   "metadata": {
    "colab_type": "text",
    "id": "91UgFMVPrYCk"
   },
   "source": [
    "## Inhibitory signals\n",
    "\n",
    "Our linear integrate-and-fire neuron from the previous section was indeed able to produce spikes, but the actual spiking behavior did not line up with our expectations of exponentially distributed ISIs. This means we need to refine our model!\n",
    "\n",
    "In the previous model we only considered excitatory behavior -- the only way the membrane potential could decrease is upon a spike event. We know, however, that there are other factors that can drive $V_m$ down. First is the natural tendancy of the neuron to return to some steady state or resting potential. We can update our previous model as follows:\n",
    "\n",
    "\\begin{align}\n",
    "  dV_m = -{\\beta}V_m + {\\alpha}I\n",
    "\\end{align}\n",
    "\n",
    "where $V_m$ is the current membrane potential and $\\beta$ is some leakage factor. This is a basic form of the popular Leaky Integrate-and-Fire model neuron (for a more detailed discussion of the LIF Neuron, see the Appendix).\n",
    "\n",
    "We also know that in addition to excitatory presynaptic neurons, we can have inhibitory presynaptic neurons as well. We can model these inhibitory neurons with another Poisson random variable, giving us\n",
    "\n",
    "\\begin{align}\n",
    "I = I_{exc} - I_{inh} \\\\\n",
    "I_{exc} \\sim Poisson(\\lambda_{exc}) \\\\\n",
    "I_{inh} \\sim Poisson(\\lambda_{inh})\n",
    "\\end{align}\n",
    "\n",
    "where $\\lambda_{exc}$ and $\\lambda_{inh}$ are the rates of the excitatory and inhibitory presynaptic neurons, respectively."
   ]
  },
  {
   "cell_type": "markdown",
   "metadata": {
    "colab_type": "text",
    "id": "3tErnV24y_Pa"
   },
   "source": [
    "### Exercise: Compute $dV_m$ with inhibitory signals\n",
    "\n",
    "For your second exercise, you will again write the code to compute the change in voltage $dV_m$, though now of the LIF model neuron described above. Like last time, the rest of the code needed to handle the neuron dynamics are provided for you, so you just need to fill in a definition for `dv` below.\n"
   ]
  },
  {
   "cell_type": "code",
   "execution_count": 7,
   "metadata": {
    "colab": {},
    "colab_type": "code",
    "id": "RfT7XE_UzUUl"
   },
   "outputs": [],
   "source": [
    "def lif_neuron_inh(n_steps=1000, alpha=0.5, beta=0.1, exc_rate=10, inh_rate=10):\n",
    "  \"\"\" Simulate a simplified leaky integrate-and-fire neuron with both excitatory\n",
    "  and inhibitory inputs.\n",
    "  \n",
    "  Args:\n",
    "    n_steps (int): The number of time steps to simulate the neuron's activity.\n",
    "    alpha (float): The input scaling factor\n",
    "    beta (float): The membrane potential leakage factor\n",
    "    exc_rate (int): The mean rate of the incoming excitatory spikes\n",
    "    inh_rate (int): The mean rate of the incoming inhibitory spikes\n",
    "  \"\"\"\n",
    "  v = np.zeros(n_steps)\n",
    "  spike_times = []\n",
    "  for i in range(1, n_steps):\n",
    "\n",
    "    ############################################################\n",
    "    ## Students: compute dv and remove the NotImplementedError #\n",
    "    ############################################################\n",
    "    # dv = ...\n",
    "    raise NotImplementedError(\"Student excercise: compute the change in membrane potential\")\n",
    "\n",
    "    v[i] = v[i-1] + dv\n",
    "    if v[i] > 1:\n",
    "      spike_times.append(i)\n",
    "      v[i] = 0\n",
    "\n",
    "  return v, spike_times\n",
    "\n",
    "# Uncomment these lines do make the plot once you've completed the function\n",
    "# v, spike_times = lif_neuron_inh()\n",
    "# plot_neuron_stats(v, spike_times)"
   ]
  },
  {
   "cell_type": "markdown",
   "metadata": {
    "cellView": "both",
    "colab": {},
    "colab_type": "text",
    "id": "opfSK1CrrYCk"
   },
   "source": [
    "[*Click for solution*](https://github.com/NeuromatchAcademy/course-content/tree/master//tutorials/W1D1_ModelTypes/solutions/W1D1_Tutorial2_Solution_da94ffb5.py)\n",
    "\n"
   ]
  },
  {
   "cell_type": "code",
   "execution_count": 9,
   "metadata": {
    "colab": {
     "base_uri": "https://localhost:8080/",
     "height": 334
    },
    "colab_type": "code",
    "id": "66msnOg2_R65",
    "outputId": "ec69c319-9c78-4358-fc2b-c5150b461da7"
   },
   "outputs": [
    {
     "data": {
      "image/png": "[encoded data removed]",
      "text/plain": [
       "<Figure size 864x360 with 2 Axes>"
      ]
     },
     "metadata": {
      "needs_background": "light"
     },
     "output_type": "display_data"
    }
   ],
   "source": [
    "v, spike_times = lif_neuron_inh()\n",
    "plot_neuron_stats(v, spike_times)"
   ]
  },
  {
   "cell_type": "markdown",
   "metadata": {
    "colab_type": "text",
    "id": "wTiAaeX4zuhn"
   },
   "source": [
    "### Parameter Exploration\n",
    "\n",
    "Like last time, you can now explore how you LIF model behaves when the various parameters of the system are changed."
   ]
  },
  {
   "cell_type": "code",
   "execution_count": 10,
   "metadata": {
    "cellView": "form",
    "colab": {
     "base_uri": "https://localhost:8080/",
     "height": 494,
     "referenced_widgets": [
      "0f09df3ceeae48a387d0fc6b908b5567",
      "c2fa6ff4f58a4101bc4b895b5baa4770",
      "9fd68b3ef90242d2ba97505ca56114aa",
      "e3b2afface834d268c55d859f854e908",
      "967e42b786084dd8b7ec89d0e629092d",
      "7c579a4e4e234f36ae753e4cc9836579",
      "cc9589e5f00c42cc964af4172428c827",
      "32fb07c83cef4496b9c0d224b251c3d6",
      "ff7ab8e46044463c94adef7cd4b67fea",
      "9735482f9bcd40b9926801e91ba8d4ce",
      "f8c107c262754347abba720716fb0f42",
      "cbf9b13890144617bf7a1e8467f0b758",
      "40394324c52e4e1298dc5e745a1f1d0f",
      "d31323b7bc0e41a9b6499f2aa91dc8da",
      "c30eb80bb2db49da82662e762e026833",
      "b70b0933a92946119f1c14fbb6a0052e",
      "10565e172d4e453b9305557675df1e8f",
      "0225e4c6620c4f5abfd2d706c5195618",
      "5dd8a2dc5f954ad8ba909fe7849ba815"
     ]
    },
    "colab_type": "code",
    "id": "Eh3wR_nArYCn",
    "outputId": "fd0b6976-8a39-42ce-a77f-a61278d30689"
   },
   "outputs": [
    {
     "data": {
      "image/png": "[encoded data removed]",
      "text/plain": [
       "<Figure size 864x360 with 2 Axes>"
      ]
     },
     "metadata": {
      "needs_background": "light"
     },
     "output_type": "display_data"
    }
   ],
   "source": [
    "#@title LIF Model Neuron with Inhibitory Inputs Explorer\n",
    "\n",
    "def _lif_neuron_inh(n_steps=1000, alpha=0.5, beta=0.1, exc_rate=10, inh_rate=10):\n",
    "  \"\"\" Simulate a simplified leaky integrate-and-fire neuron with both excitatory\n",
    "  and inhibitory inputs.\n",
    "  \n",
    "  Args:\n",
    "    n_steps (int): The number of time steps to simulate the neuron's activity.\n",
    "    alpha (float): The input scaling factor\n",
    "    beta (float): The membrane potential leakage factor\n",
    "    exc_rate (int): The mean rate of the incoming excitatory spikes\n",
    "    inh_rate (int): The mean rate of the incoming inhibitory spikes\n",
    "  \"\"\"\n",
    "  # precompute Poisson samples for speed\n",
    "  exc = stats.poisson(exc_rate).rvs(n_steps)\n",
    "  inh = stats.poisson(inh_rate).rvs(n_steps)\n",
    "\n",
    "  v = np.zeros(n_steps)\n",
    "  spike_times = []\n",
    "  for i in range(1, n_steps):\n",
    "    dv = -beta * v[i-1] + alpha * (exc[i] - inh[i])\n",
    "    v[i] = v[i-1] + dv\n",
    "    if v[i] > 1:\n",
    "      spike_times.append(i)\n",
    "      v[i] = 0\n",
    "\n",
    "  return v, spike_times\n",
    "\n",
    "@widgets.interact(n_steps=widgets.FloatLogSlider(1000.0, min=2, max=4),\n",
    "                  alpha=widgets.FloatLogSlider(0.5, min=-2, max=1),\n",
    "                  beta=widgets.FloatLogSlider(0.1, min=-2, max=0),\n",
    "                  exc_rate=widgets.IntSlider(10, min=1, max=20),\n",
    "                  inh_rate=widgets.IntSlider(10, min=1, max=20))\n",
    "def plot_lif_neuron(n_steps=1000, alpha=0.5, beta=0.1, exc_rate=10, inh_rate=10):\n",
    "  v, spike_times = _lif_neuron_inh(int(n_steps), alpha, beta, exc_rate, inh_rate)\n",
    "  plot_neuron_stats(v, spike_times)"
   ]
  },
  {
   "cell_type": "code",
   "execution_count": 11,
   "metadata": {
    "cellView": "form",
    "colab": {
     "base_uri": "https://localhost:8080/",
     "height": 519
    },
    "colab_type": "code",
    "id": "or1Tt4TSfQwp",
    "outputId": "6354a165-972d-4834-f507-ada332fb423f"
   },
   "outputs": [
    {
     "name": "stdout",
     "output_type": "stream",
     "text": [
      "Video available at https://youtube.com/watch?v=buXEQPp9LKI\n"
     ]
    },
    {
     "data": {
      "image/jpeg": "[encoded data removed]",
      "text/html": [
       "\n",
       "        <iframe\n",
       "            width=\"854\"\n",
       "            height=\"480\"\n",
       "            src=\"https://www.youtube.com/embed/buXEQPp9LKI?fs=1\"\n",
       "            frameborder=\"0\"\n",
       "            allowfullscreen\n",
       "        ></iframe>\n",
       "        "
      ],
      "text/plain": [
       "<IPython.lib.display.YouTubeVideo at 0x7f25aa706a90>"
      ]
     },
     "execution_count": 11,
     "metadata": {},
     "output_type": "execute_result"
    }
   ],
   "source": [
    "#@title Video: Balanced inputs\n",
    "from IPython.display import YouTubeVideo\n",
    "video = YouTubeVideo(id='buXEQPp9LKI', width=854, height=480, fs=1)\n",
    "print(\"Video available at https://youtube.com/watch?v=\" + video.id)\n",
    "video"
   ]
  },
  {
   "cell_type": "markdown",
   "metadata": {
    "colab_type": "text",
    "id": "pKCzc7Fjz8zK"
   },
   "source": [
    "## Appendix"
   ]
  },
  {
   "cell_type": "markdown",
   "metadata": {
    "colab_type": "text",
    "id": "xn34Ieffz_ZO"
   },
   "source": [
    "### Why do neurons spike?\n",
    "\n",
    "A neuron stores energy in an electric field across its cell membrane, by controlling the distribution of charges (ions) on either side of the membrane. This energy is rapidly discharged to generate a spike when the field potential (or membrane potential) crosses a threshold. The membrane potential may be driven toward or away from this threshold, depending on inputs from other neurons: excitatory or inhibitory, respectively. The membrane potential tends to revert to a resting potential, for example due to the leakage of ions across the membrane, so that reaching the spiking threshold depends not only on the amount of input ever received following the last spike, but also the timing of the inputs.\n",
    "\n",
    "The storage of energy by maintaining a field potential across an insulating membrane can be modeled by a capacitor. The leakage of charge across the membrane can be modeled by a resistor. This is the basis for the leaky integrate-and-fire neuron model."
   ]
  },
  {
   "cell_type": "markdown",
   "metadata": {
    "colab_type": "text",
    "id": "pwZOhsV60WPM"
   },
   "source": [
    "### The LIF Model Neuron\n",
    "\n",
    "The full equation for the LIF neuron is\n",
    "\n",
    "\\begin{align}\n",
    "C_{m}\\frac{dV_m}{dt} = -(V_m - V_{rest})/R_{m} + I\n",
    "\\end{align}\n",
    "\n",
    "where $C_m$ is the membrane capacitance, $R_M$ is the membrane resistance, $𝑉_{𝑟𝑒𝑠𝑡}$ is the resting potential, and  𝐼  is some input current (from other neurons, an electrode, ...).\n",
    "\n",
    "In our above examples we set many of these properties to convenient values ($C_m = R_m = dt = 1$, $V_{rest} = 0$) to focus more on the overall behavior, though these too can be manipulated to achieve different dynamics."
   ]
  }
 ],
 "metadata": {
  "colab": {
   "collapsed_sections": [],
   "include_colab_link": true,
   "name": "NeuromatchAcademy_W1D1_Tutorial2",
   "provenance": [],
   "toc_visible": true
  },
  "kernelspec": {
   "display_name": "Python 3",
   "language": "python",
   "name": "python3"
  },
  "language_info": {
   "codemirror_mode": {
    "name": "ipython",
    "version": 3
   },
   "file_extension": ".py",
   "mimetype": "text/x-python",
   "name": "python",
   "nbconvert_exporter": "python",
   "pygments_lexer": "ipython3",
   "version": "3.7.7"
  },
  "widgets": {
   "application/vnd.jupyter.widget-state+json": {
    "state": {
     "0baa15db08e0412fa009df163be2dd15": {
      "model_module": "@jupyter-widgets/controls",
      "model_module_version": "1.5.0",
      "model_name": "FloatLogSliderModel",
      "state": {
       "_dom_classes": [],
       "_model_module": "@jupyter-widgets/controls",
       "_model_module_version": "1.5.0",
       "_model_name": "FloatLogSliderModel",
       "_view_count": null,
       "_view_module": "@jupyter-widgets/controls",
       "_view_module_version": "1.5.0",
       "_view_name": "FloatLogSliderView",
       "base": 10.0,
       "continuous_update": true,
       "description": "alpha",
       "description_tooltip": null,
       "disabled": false,
       "layout": "IPY_MODEL_7278e7244e6e4364a6f619483e7e44b8",
       "max": -1.0,
       "min": -4.0,
       "orientation": "horizontal",
       "readout": true,
       "readout_format": ".3g",
       "step": 0.1,
       "style": "IPY_MODEL_1578b71f8b6a477e9b64f2e7bb062e74",
       "value": 0.01
      }
     },
     "0d6c975a2f094667a2b12d37da5e2128": {
      "model_module": "@jupyter-widgets/controls",
      "model_module_version": "1.5.0",
      "model_name": "FloatLogSliderModel",
      "state": {
       "_dom_classes": [],
       "_model_module": "@jupyter-widgets/controls",
       "_model_module_version": "1.5.0",
       "_model_name": "FloatLogSliderModel",
       "_view_count": null,
       "_view_module": "@jupyter-widgets/controls",
       "_view_module_version": "1.5.0",
       "_view_name": "FloatLogSliderView",
       "base": 10.0,
       "continuous_update": true,
       "description": "beta",
       "description_tooltip": null,
       "disabled": false,
       "layout": "IPY_MODEL_1f34793016c54efa90d1573208cde865",
       "max": 0.0,
       "min": -2.0,
       "orientation": "horizontal",
       "readout": true,
       "readout_format": ".3g",
       "step": 0.1,
       "style": "IPY_MODEL_1456c3e852be45de88c626c192e6ea61",
       "value": 0.1
      }
     },
     "111abef4155e4440ad9e8c63f6d5de4a": {
      "model_module": "@jupyter-widgets/base",
      "model_module_version": "1.2.0",
      "model_name": "LayoutModel",
      "state": {
       "_model_module": "@jupyter-widgets/base",
       "_model_module_version": "1.2.0",
       "_model_name": "LayoutModel",
       "_view_count": null,
       "_view_module": "@jupyter-widgets/base",
       "_view_module_version": "1.2.0",
       "_view_name": "LayoutView",
       "align_content": null,
       "align_items": null,
       "align_self": null,
       "border": null,
       "bottom": null,
       "display": null,
       "flex": null,
       "flex_flow": null,
       "grid_area": null,
       "grid_auto_columns": null,
       "grid_auto_flow": null,
       "grid_auto_rows": null,
       "grid_column": null,
       "grid_gap": null,
       "grid_row": null,
       "grid_template_areas": null,
       "grid_template_columns": null,
       "grid_template_rows": null,
       "height": null,
       "justify_content": null,
       "justify_items": null,
       "left": null,
       "margin": null,
       "max_height": null,
       "max_width": null,
       "min_height": null,
       "min_width": null,
       "object_fit": null,
       "object_position": null,
       "order": null,
       "overflow": null,
       "overflow_x": null,
       "overflow_y": null,
       "padding": null,
       "right": null,
       "top": null,
       "visibility": null,
       "width": null
      }
     },
     "12cfe6a0c9984e9e9a0e6c1a1484485c": {
      "model_module": "@jupyter-widgets/controls",
      "model_module_version": "1.5.0",
      "model_name": "FloatLogSliderModel",
      "state": {
       "_dom_classes": [],
       "_model_module": "@jupyter-widgets/controls",
       "_model_module_version": "1.5.0",
       "_model_name": "FloatLogSliderModel",
       "_view_count": null,
       "_view_module": "@jupyter-widgets/controls",
       "_view_module_version": "1.5.0",
       "_view_name": "FloatLogSliderView",
       "base": 10.0,
       "continuous_update": true,
       "description": "n_steps",
       "description_tooltip": null,
       "disabled": false,
       "layout": "IPY_MODEL_5f7ea5637c9342c680ee10657173fe9e",
       "max": 4.0,
       "min": 2.0,
       "orientation": "horizontal",
       "readout": true,
       "readout_format": ".3g",
       "step": 0.1,
       "style": "IPY_MODEL_90218e6fae8b45749d0bd4b4c026a052",
       "value": 1000.0
      }
     },
     "1456c3e852be45de88c626c192e6ea61": {
      "model_module": "@jupyter-widgets/controls",
      "model_module_version": "1.5.0",
      "model_name": "SliderStyleModel",
      "state": {
       "_model_module": "@jupyter-widgets/controls",
       "_model_module_version": "1.5.0",
       "_model_name": "SliderStyleModel",
       "_view_count": null,
       "_view_module": "@jupyter-widgets/base",
       "_view_module_version": "1.2.0",
       "_view_name": "StyleView",
       "description_width": "",
       "handle_color": null
      }
     },
     "1578b71f8b6a477e9b64f2e7bb062e74": {
      "model_module": "@jupyter-widgets/controls",
      "model_module_version": "1.5.0",
      "model_name": "SliderStyleModel",
      "state": {
       "_model_module": "@jupyter-widgets/controls",
       "_model_module_version": "1.5.0",
       "_model_name": "SliderStyleModel",
       "_view_count": null,
       "_view_module": "@jupyter-widgets/base",
       "_view_module_version": "1.2.0",
       "_view_name": "StyleView",
       "description_width": "",
       "handle_color": null
      }
     },
     "186ff9f0cb304e389ae58652c0c1190e": {
      "model_module": "@jupyter-widgets/controls",
      "model_module_version": "1.5.0",
      "model_name": "VBoxModel",
      "state": {
       "_dom_classes": [
        "widget-interact"
       ],
       "_model_module": "@jupyter-widgets/controls",
       "_model_module_version": "1.5.0",
       "_model_name": "VBoxModel",
       "_view_count": null,
       "_view_module": "@jupyter-widgets/controls",
       "_view_module_version": "1.5.0",
       "_view_name": "VBoxView",
       "box_style": "",
       "children": [
        "IPY_MODEL_a7b03d0e0c564f909c96d85b727a120b",
        "IPY_MODEL_0baa15db08e0412fa009df163be2dd15",
        "IPY_MODEL_6e9c48671c144eddbf821d3eef9184f4",
        "IPY_MODEL_2902718c1b0343af8e15c42c4b6ae736"
       ],
       "layout": "IPY_MODEL_df62f2c13bad43b892291e6d64e7ecf8"
      }
     },
     "1f34793016c54efa90d1573208cde865": {
      "model_module": "@jupyter-widgets/base",
      "model_module_version": "1.2.0",
      "model_name": "LayoutModel",
      "state": {
       "_model_module": "@jupyter-widgets/base",
       "_model_module_version": "1.2.0",
       "_model_name": "LayoutModel",
       "_view_count": null,
       "_view_module": "@jupyter-widgets/base",
       "_view_module_version": "1.2.0",
       "_view_name": "LayoutView",
       "align_content": null,
       "align_items": null,
       "align_self": null,
       "border": null,
       "bottom": null,
       "display": null,
       "flex": null,
       "flex_flow": null,
       "grid_area": null,
       "grid_auto_columns": null,
       "grid_auto_flow": null,
       "grid_auto_rows": null,
       "grid_column": null,
       "grid_gap": null,
       "grid_row": null,
       "grid_template_areas": null,
       "grid_template_columns": null,
       "grid_template_rows": null,
       "height": null,
       "justify_content": null,
       "justify_items": null,
       "left": null,
       "margin": null,
       "max_height": null,
       "max_width": null,
       "min_height": null,
       "min_width": null,
       "object_fit": null,
       "object_position": null,
       "order": null,
       "overflow": null,
       "overflow_x": null,
       "overflow_y": null,
       "padding": null,
       "right": null,
       "top": null,
       "visibility": null,
       "width": null
      }
     },
     "211bc389bace4755ae660ff3da287db7": {
      "model_module": "@jupyter-widgets/controls",
      "model_module_version": "1.5.0",
      "model_name": "IntSliderModel",
      "state": {
       "_dom_classes": [],
       "_model_module": "@jupyter-widgets/controls",
       "_model_module_version": "1.5.0",
       "_model_name": "IntSliderModel",
       "_view_count": null,
       "_view_module": "@jupyter-widgets/controls",
       "_view_module_version": "1.5.0",
       "_view_name": "IntSliderView",
       "continuous_update": true,
       "description": "inh_rate",
       "description_tooltip": null,
       "disabled": false,
       "layout": "IPY_MODEL_111abef4155e4440ad9e8c63f6d5de4a",
       "max": 20,
       "min": 1,
       "orientation": "horizontal",
       "readout": true,
       "readout_format": "d",
       "step": 1,
       "style": "IPY_MODEL_f243c340344c4ee990bb078835aebe72",
       "value": 10
      }
     },
     "2902718c1b0343af8e15c42c4b6ae736": {
      "model_module": "@jupyter-widgets/output",
      "model_module_version": "1.0.0",
      "model_name": "OutputModel",
      "state": {
       "_dom_classes": [],
       "_model_module": "@jupyter-widgets/output",
       "_model_module_version": "1.0.0",
       "_model_name": "OutputModel",
       "_view_count": null,
       "_view_module": "@jupyter-widgets/output",
       "_view_module_version": "1.0.0",
       "_view_name": "OutputView",
       "layout": "IPY_MODEL_b478213d310143dc8a444eb4367891c5",
       "msg_id": "",
       "outputs": []
      }
     },
     "459f2be65ae2401d80fddb3e1feeb46e": {
      "model_module": "@jupyter-widgets/controls",
      "model_module_version": "1.5.0",
      "model_name": "SliderStyleModel",
      "state": {
       "_model_module": "@jupyter-widgets/controls",
       "_model_module_version": "1.5.0",
       "_model_name": "SliderStyleModel",
       "_view_count": null,
       "_view_module": "@jupyter-widgets/base",
       "_view_module_version": "1.2.0",
       "_view_name": "StyleView",
       "description_width": "",
       "handle_color": null
      }
     },
     "46be704be3204e88af883e0e31bc14c6": {
      "model_module": "@jupyter-widgets/controls",
      "model_module_version": "1.5.0",
      "model_name": "SliderStyleModel",
      "state": {
       "_model_module": "@jupyter-widgets/controls",
       "_model_module_version": "1.5.0",
       "_model_name": "SliderStyleModel",
       "_view_count": null,
       "_view_module": "@jupyter-widgets/base",
       "_view_module_version": "1.2.0",
       "_view_name": "StyleView",
       "description_width": "",
       "handle_color": null
      }
     },
     "5aab1422b1404bf8a6204704872502e1": {
      "model_module": "@jupyter-widgets/base",
      "model_module_version": "1.2.0",
      "model_name": "LayoutModel",
      "state": {
       "_model_module": "@jupyter-widgets/base",
       "_model_module_version": "1.2.0",
       "_model_name": "LayoutModel",
       "_view_count": null,
       "_view_module": "@jupyter-widgets/base",
       "_view_module_version": "1.2.0",
       "_view_name": "LayoutView",
       "align_content": null,
       "align_items": null,
       "align_self": null,
       "border": null,
       "bottom": null,
       "display": null,
       "flex": null,
       "flex_flow": null,
       "grid_area": null,
       "grid_auto_columns": null,
       "grid_auto_flow": null,
       "grid_auto_rows": null,
       "grid_column": null,
       "grid_gap": null,
       "grid_row": null,
       "grid_template_areas": null,
       "grid_template_columns": null,
       "grid_template_rows": null,
       "height": null,
       "justify_content": null,
       "justify_items": null,
       "left": null,
       "margin": null,
       "max_height": null,
       "max_width": null,
       "min_height": null,
       "min_width": null,
       "object_fit": null,
       "object_position": null,
       "order": null,
       "overflow": null,
       "overflow_x": null,
       "overflow_y": null,
       "padding": null,
       "right": null,
       "top": null,
       "visibility": null,
       "width": null
      }
     },
     "5f7ea5637c9342c680ee10657173fe9e": {
      "model_module": "@jupyter-widgets/base",
      "model_module_version": "1.2.0",
      "model_name": "LayoutModel",
      "state": {
       "_model_module": "@jupyter-widgets/base",
       "_model_module_version": "1.2.0",
       "_model_name": "LayoutModel",
       "_view_count": null,
       "_view_module": "@jupyter-widgets/base",
       "_view_module_version": "1.2.0",
       "_view_name": "LayoutView",
       "align_content": null,
       "align_items": null,
       "align_self": null,
       "border": null,
       "bottom": null,
       "display": null,
       "flex": null,
       "flex_flow": null,
       "grid_area": null,
       "grid_auto_columns": null,
       "grid_auto_flow": null,
       "grid_auto_rows": null,
       "grid_column": null,
       "grid_gap": null,
       "grid_row": null,
       "grid_template_areas": null,
       "grid_template_columns": null,
       "grid_template_rows": null,
       "height": null,
       "justify_content": null,
       "justify_items": null,
       "left": null,
       "margin": null,
       "max_height": null,
       "max_width": null,
       "min_height": null,
       "min_width": null,
       "object_fit": null,
       "object_position": null,
       "order": null,
       "overflow": null,
       "overflow_x": null,
       "overflow_y": null,
       "padding": null,
       "right": null,
       "top": null,
       "visibility": null,
       "width": null
      }
     },
     "6be47c78575c4579ad22903e1b01fe20": {
      "model_module": "@jupyter-widgets/base",
      "model_module_version": "1.2.0",
      "model_name": "LayoutModel",
      "state": {
       "_model_module": "@jupyter-widgets/base",
       "_model_module_version": "1.2.0",
       "_model_name": "LayoutModel",
       "_view_count": null,
       "_view_module": "@jupyter-widgets/base",
       "_view_module_version": "1.2.0",
       "_view_name": "LayoutView",
       "align_content": null,
       "align_items": null,
       "align_self": null,
       "border": null,
       "bottom": null,
       "display": null,
       "flex": null,
       "flex_flow": null,
       "grid_area": null,
       "grid_auto_columns": null,
       "grid_auto_flow": null,
       "grid_auto_rows": null,
       "grid_column": null,
       "grid_gap": null,
       "grid_row": null,
       "grid_template_areas": null,
       "grid_template_columns": null,
       "grid_template_rows": null,
       "height": null,
       "justify_content": null,
       "justify_items": null,
       "left": null,
       "margin": null,
       "max_height": null,
       "max_width": null,
       "min_height": null,
       "min_width": null,
       "object_fit": null,
       "object_position": null,
       "order": null,
       "overflow": null,
       "overflow_x": null,
       "overflow_y": null,
       "padding": null,
       "right": null,
       "top": null,
       "visibility": null,
       "width": null
      }
     },
     "6e9c48671c144eddbf821d3eef9184f4": {
      "model_module": "@jupyter-widgets/controls",
      "model_module_version": "1.5.0",
      "model_name": "IntSliderModel",
      "state": {
       "_dom_classes": [],
       "_model_module": "@jupyter-widgets/controls",
       "_model_module_version": "1.5.0",
       "_model_name": "IntSliderModel",
       "_view_count": null,
       "_view_module": "@jupyter-widgets/controls",
       "_view_module_version": "1.5.0",
       "_view_name": "IntSliderView",
       "continuous_update": true,
       "description": "rate",
       "description_tooltip": null,
       "disabled": false,
       "layout": "IPY_MODEL_5aab1422b1404bf8a6204704872502e1",
       "max": 20,
       "min": 1,
       "orientation": "horizontal",
       "readout": true,
       "readout_format": "d",
       "step": 1,
       "style": "IPY_MODEL_46be704be3204e88af883e0e31bc14c6",
       "value": 10
      }
     },
     "7278e7244e6e4364a6f619483e7e44b8": {
      "model_module": "@jupyter-widgets/base",
      "model_module_version": "1.2.0",
      "model_name": "LayoutModel",
      "state": {
       "_model_module": "@jupyter-widgets/base",
       "_model_module_version": "1.2.0",
       "_model_name": "LayoutModel",
       "_view_count": null,
       "_view_module": "@jupyter-widgets/base",
       "_view_module_version": "1.2.0",
       "_view_name": "LayoutView",
       "align_content": null,
       "align_items": null,
       "align_self": null,
       "border": null,
       "bottom": null,
       "display": null,
       "flex": null,
       "flex_flow": null,
       "grid_area": null,
       "grid_auto_columns": null,
       "grid_auto_flow": null,
       "grid_auto_rows": null,
       "grid_column": null,
       "grid_gap": null,
       "grid_row": null,
       "grid_template_areas": null,
       "grid_template_columns": null,
       "grid_template_rows": null,
       "height": null,
       "justify_content": null,
       "justify_items": null,
       "left": null,
       "margin": null,
       "max_height": null,
       "max_width": null,
       "min_height": null,
       "min_width": null,
       "object_fit": null,
       "object_position": null,
       "order": null,
       "overflow": null,
       "overflow_x": null,
       "overflow_y": null,
       "padding": null,
       "right": null,
       "top": null,
       "visibility": null,
       "width": null
      }
     },
     "857f47538d8f4361920cc8d7a11766da": {
      "model_module": "@jupyter-widgets/base",
      "model_module_version": "1.2.0",
      "model_name": "LayoutModel",
      "state": {
       "_model_module": "@jupyter-widgets/base",
       "_model_module_version": "1.2.0",
       "_model_name": "LayoutModel",
       "_view_count": null,
       "_view_module": "@jupyter-widgets/base",
       "_view_module_version": "1.2.0",
       "_view_name": "LayoutView",
       "align_content": null,
       "align_items": null,
       "align_self": null,
       "border": null,
       "bottom": null,
       "display": null,
       "flex": null,
       "flex_flow": null,
       "grid_area": null,
       "grid_auto_columns": null,
       "grid_auto_flow": null,
       "grid_auto_rows": null,
       "grid_column": null,
       "grid_gap": null,
       "grid_row": null,
       "grid_template_areas": null,
       "grid_template_columns": null,
       "grid_template_rows": null,
       "height": null,
       "justify_content": null,
       "justify_items": null,
       "left": null,
       "margin": null,
       "max_height": null,
       "max_width": null,
       "min_height": null,
       "min_width": null,
       "object_fit": null,
       "object_position": null,
       "order": null,
       "overflow": null,
       "overflow_x": null,
       "overflow_y": null,
       "padding": null,
       "right": null,
       "top": null,
       "visibility": null,
       "width": null
      }
     },
     "888d4999f30242ccb3b6f010ea975055": {
      "model_module": "@jupyter-widgets/controls",
      "model_module_version": "1.5.0",
      "model_name": "FloatLogSliderModel",
      "state": {
       "_dom_classes": [],
       "_model_module": "@jupyter-widgets/controls",
       "_model_module_version": "1.5.0",
       "_model_name": "FloatLogSliderModel",
       "_view_count": null,
       "_view_module": "@jupyter-widgets/controls",
       "_view_module_version": "1.5.0",
       "_view_name": "FloatLogSliderView",
       "base": 10.0,
       "continuous_update": true,
       "description": "alpha",
       "description_tooltip": null,
       "disabled": false,
       "layout": "IPY_MODEL_bddf7bad1ad84faaa94c80c7338042d2",
       "max": 1.0,
       "min": -2.0,
       "orientation": "horizontal",
       "readout": true,
       "readout_format": ".3g",
       "step": 0.1,
       "style": "IPY_MODEL_459f2be65ae2401d80fddb3e1feeb46e",
       "value": 0.5
      }
     },
     "8ab7f9cc9a5d44e7ba1dec28867d173f": {
      "model_module": "@jupyter-widgets/base",
      "model_module_version": "1.2.0",
      "model_name": "LayoutModel",
      "state": {
       "_model_module": "@jupyter-widgets/base",
       "_model_module_version": "1.2.0",
       "_model_name": "LayoutModel",
       "_view_count": null,
       "_view_module": "@jupyter-widgets/base",
       "_view_module_version": "1.2.0",
       "_view_name": "LayoutView",
       "align_content": null,
       "align_items": null,
       "align_self": null,
       "border": null,
       "bottom": null,
       "display": null,
       "flex": null,
       "flex_flow": null,
       "grid_area": null,
       "grid_auto_columns": null,
       "grid_auto_flow": null,
       "grid_auto_rows": null,
       "grid_column": null,
       "grid_gap": null,
       "grid_row": null,
       "grid_template_areas": null,
       "grid_template_columns": null,
       "grid_template_rows": null,
       "height": null,
       "justify_content": null,
       "justify_items": null,
       "left": null,
       "margin": null,
       "max_height": null,
       "max_width": null,
       "min_height": null,
       "min_width": null,
       "object_fit": null,
       "object_position": null,
       "order": null,
       "overflow": null,
       "overflow_x": null,
       "overflow_y": null,
       "padding": null,
       "right": null,
       "top": null,
       "visibility": null,
       "width": null
      }
     },
     "90218e6fae8b45749d0bd4b4c026a052": {
      "model_module": "@jupyter-widgets/controls",
      "model_module_version": "1.5.0",
      "model_name": "SliderStyleModel",
      "state": {
       "_model_module": "@jupyter-widgets/controls",
       "_model_module_version": "1.5.0",
       "_model_name": "SliderStyleModel",
       "_view_count": null,
       "_view_module": "@jupyter-widgets/base",
       "_view_module_version": "1.2.0",
       "_view_name": "StyleView",
       "description_width": "",
       "handle_color": null
      }
     },
     "a7b03d0e0c564f909c96d85b727a120b": {
      "model_module": "@jupyter-widgets/controls",
      "model_module_version": "1.5.0",
      "model_name": "FloatLogSliderModel",
      "state": {
       "_dom_classes": [],
       "_model_module": "@jupyter-widgets/controls",
       "_model_module_version": "1.5.0",
       "_model_name": "FloatLogSliderModel",
       "_view_count": null,
       "_view_module": "@jupyter-widgets/controls",
       "_view_module_version": "1.5.0",
       "_view_name": "FloatLogSliderView",
       "base": 10.0,
       "continuous_update": true,
       "description": "n_steps",
       "description_tooltip": null,
       "disabled": false,
       "layout": "IPY_MODEL_6be47c78575c4579ad22903e1b01fe20",
       "max": 4.0,
       "min": 2.0,
       "orientation": "horizontal",
       "readout": true,
       "readout_format": ".3g",
       "step": 0.1,
       "style": "IPY_MODEL_f4f232371ed24d2aa9fbec77ca112aae",
       "value": 1000.0
      }
     },
     "b478213d310143dc8a444eb4367891c5": {
      "model_module": "@jupyter-widgets/base",
      "model_module_version": "1.2.0",
      "model_name": "LayoutModel",
      "state": {
       "_model_module": "@jupyter-widgets/base",
       "_model_module_version": "1.2.0",
       "_model_name": "LayoutModel",
       "_view_count": null,
       "_view_module": "@jupyter-widgets/base",
       "_view_module_version": "1.2.0",
       "_view_name": "LayoutView",
       "align_content": null,
       "align_items": null,
       "align_self": null,
       "border": null,
       "bottom": null,
       "display": null,
       "flex": null,
       "flex_flow": null,
       "grid_area": null,
       "grid_auto_columns": null,
       "grid_auto_flow": null,
       "grid_auto_rows": null,
       "grid_column": null,
       "grid_gap": null,
       "grid_row": null,
       "grid_template_areas": null,
       "grid_template_columns": null,
       "grid_template_rows": null,
       "height": null,
       "justify_content": null,
       "justify_items": null,
       "left": null,
       "margin": null,
       "max_height": null,
       "max_width": null,
       "min_height": null,
       "min_width": null,
       "object_fit": null,
       "object_position": null,
       "order": null,
       "overflow": null,
       "overflow_x": null,
       "overflow_y": null,
       "padding": null,
       "right": null,
       "top": null,
       "visibility": null,
       "width": null
      }
     },
     "b9da9bdc069e4a58b2cbd1937a4d4667": {
      "model_module": "@jupyter-widgets/controls",
      "model_module_version": "1.5.0",
      "model_name": "VBoxModel",
      "state": {
       "_dom_classes": [
        "widget-interact"
       ],
       "_model_module": "@jupyter-widgets/controls",
       "_model_module_version": "1.5.0",
       "_model_name": "VBoxModel",
       "_view_count": null,
       "_view_module": "@jupyter-widgets/controls",
       "_view_module_version": "1.5.0",
       "_view_name": "VBoxView",
       "box_style": "",
       "children": [
        "IPY_MODEL_12cfe6a0c9984e9e9a0e6c1a1484485c",
        "IPY_MODEL_888d4999f30242ccb3b6f010ea975055",
        "IPY_MODEL_0d6c975a2f094667a2b12d37da5e2128",
        "IPY_MODEL_f7a50b3be1024550aad489d336e5e9f5",
        "IPY_MODEL_211bc389bace4755ae660ff3da287db7",
        "IPY_MODEL_bc44003a3c4748c692d0dc71fda413a8"
       ],
       "layout": "IPY_MODEL_d86a0bf59830476e9f960349ebf33cda"
      }
     },
     "bc44003a3c4748c692d0dc71fda413a8": {
      "model_module": "@jupyter-widgets/output",
      "model_module_version": "1.0.0",
      "model_name": "OutputModel",
      "state": {
       "_dom_classes": [],
       "_model_module": "@jupyter-widgets/output",
       "_model_module_version": "1.0.0",
       "_model_name": "OutputModel",
       "_view_count": null,
       "_view_module": "@jupyter-widgets/output",
       "_view_module_version": "1.0.0",
       "_view_name": "OutputView",
       "layout": "IPY_MODEL_8ab7f9cc9a5d44e7ba1dec28867d173f",
       "msg_id": "",
       "outputs": []
      }
     },
     "bddf7bad1ad84faaa94c80c7338042d2": {
      "model_module": "@jupyter-widgets/base",
      "model_module_version": "1.2.0",
      "model_name": "LayoutModel",
      "state": {
       "_model_module": "@jupyter-widgets/base",
       "_model_module_version": "1.2.0",
       "_model_name": "LayoutModel",
       "_view_count": null,
       "_view_module": "@jupyter-widgets/base",
       "_view_module_version": "1.2.0",
       "_view_name": "LayoutView",
       "align_content": null,
       "align_items": null,
       "align_self": null,
       "border": null,
       "bottom": null,
       "display": null,
       "flex": null,
       "flex_flow": null,
       "grid_area": null,
       "grid_auto_columns": null,
       "grid_auto_flow": null,
       "grid_auto_rows": null,
       "grid_column": null,
       "grid_gap": null,
       "grid_row": null,
       "grid_template_areas": null,
       "grid_template_columns": null,
       "grid_template_rows": null,
       "height": null,
       "justify_content": null,
       "justify_items": null,
       "left": null,
       "margin": null,
       "max_height": null,
       "max_width": null,
       "min_height": null,
       "min_width": null,
       "object_fit": null,
       "object_position": null,
       "order": null,
       "overflow": null,
       "overflow_x": null,
       "overflow_y": null,
       "padding": null,
       "right": null,
       "top": null,
       "visibility": null,
       "width": null
      }
     },
     "d86a0bf59830476e9f960349ebf33cda": {
      "model_module": "@jupyter-widgets/base",
      "model_module_version": "1.2.0",
      "model_name": "LayoutModel",
      "state": {
       "_model_module": "@jupyter-widgets/base",
       "_model_module_version": "1.2.0",
       "_model_name": "LayoutModel",
       "_view_count": null,
       "_view_module": "@jupyter-widgets/base",
       "_view_module_version": "1.2.0",
       "_view_name": "LayoutView",
       "align_content": null,
       "align_items": null,
       "align_self": null,
       "border": null,
       "bottom": null,
       "display": null,
       "flex": null,
       "flex_flow": null,
       "grid_area": null,
       "grid_auto_columns": null,
       "grid_auto_flow": null,
       "grid_auto_rows": null,
       "grid_column": null,
       "grid_gap": null,
       "grid_row": null,
       "grid_template_areas": null,
       "grid_template_columns": null,
       "grid_template_rows": null,
       "height": null,
       "justify_content": null,
       "justify_items": null,
       "left": null,
       "margin": null,
       "max_height": null,
       "max_width": null,
       "min_height": null,
       "min_width": null,
       "object_fit": null,
       "object_position": null,
       "order": null,
       "overflow": null,
       "overflow_x": null,
       "overflow_y": null,
       "padding": null,
       "right": null,
       "top": null,
       "visibility": null,
       "width": null
      }
     },
     "df3105d544c5424a9dc43c520dffba0f": {
      "model_module": "@jupyter-widgets/controls",
      "model_module_version": "1.5.0",
      "model_name": "SliderStyleModel",
      "state": {
       "_model_module": "@jupyter-widgets/controls",
       "_model_module_version": "1.5.0",
       "_model_name": "SliderStyleModel",
       "_view_count": null,
       "_view_module": "@jupyter-widgets/base",
       "_view_module_version": "1.2.0",
       "_view_name": "StyleView",
       "description_width": "",
       "handle_color": null
      }
     },
     "df62f2c13bad43b892291e6d64e7ecf8": {
      "model_module": "@jupyter-widgets/base",
      "model_module_version": "1.2.0",
      "model_name": "LayoutModel",
      "state": {
       "_model_module": "@jupyter-widgets/base",
       "_model_module_version": "1.2.0",
       "_model_name": "LayoutModel",
       "_view_count": null,
       "_view_module": "@jupyter-widgets/base",
       "_view_module_version": "1.2.0",
       "_view_name": "LayoutView",
       "align_content": null,
       "align_items": null,
       "align_self": null,
       "border": null,
       "bottom": null,
       "display": null,
       "flex": null,
       "flex_flow": null,
       "grid_area": null,
       "grid_auto_columns": null,
       "grid_auto_flow": null,
       "grid_auto_rows": null,
       "grid_column": null,
       "grid_gap": null,
       "grid_row": null,
       "grid_template_areas": null,
       "grid_template_columns": null,
       "grid_template_rows": null,
       "height": null,
       "justify_content": null,
       "justify_items": null,
       "left": null,
       "margin": null,
       "max_height": null,
       "max_width": null,
       "min_height": null,
       "min_width": null,
       "object_fit": null,
       "object_position": null,
       "order": null,
       "overflow": null,
       "overflow_x": null,
       "overflow_y": null,
       "padding": null,
       "right": null,
       "top": null,
       "visibility": null,
       "width": null
      }
     },
     "f243c340344c4ee990bb078835aebe72": {
      "model_module": "@jupyter-widgets/controls",
      "model_module_version": "1.5.0",
      "model_name": "SliderStyleModel",
      "state": {
       "_model_module": "@jupyter-widgets/controls",
       "_model_module_version": "1.5.0",
       "_model_name": "SliderStyleModel",
       "_view_count": null,
       "_view_module": "@jupyter-widgets/base",
       "_view_module_version": "1.2.0",
       "_view_name": "StyleView",
       "description_width": "",
       "handle_color": null
      }
     },
     "f4f232371ed24d2aa9fbec77ca112aae": {
      "model_module": "@jupyter-widgets/controls",
      "model_module_version": "1.5.0",
      "model_name": "SliderStyleModel",
      "state": {
       "_model_module": "@jupyter-widgets/controls",
       "_model_module_version": "1.5.0",
       "_model_name": "SliderStyleModel",
       "_view_count": null,
       "_view_module": "@jupyter-widgets/base",
       "_view_module_version": "1.2.0",
       "_view_name": "StyleView",
       "description_width": "",
       "handle_color": null
      }
     },
     "f7a50b3be1024550aad489d336e5e9f5": {
      "model_module": "@jupyter-widgets/controls",
      "model_module_version": "1.5.0",
      "model_name": "IntSliderModel",
      "state": {
       "_dom_classes": [],
       "_model_module": "@jupyter-widgets/controls",
       "_model_module_version": "1.5.0",
       "_model_name": "IntSliderModel",
       "_view_count": null,
       "_view_module": "@jupyter-widgets/controls",
       "_view_module_version": "1.5.0",
       "_view_name": "IntSliderView",
       "continuous_update": true,
       "description": "exc_rate",
       "description_tooltip": null,
       "disabled": false,
       "layout": "IPY_MODEL_857f47538d8f4361920cc8d7a11766da",
       "max": 20,
       "min": 1,
       "orientation": "horizontal",
       "readout": true,
       "readout_format": "d",
       "step": 1,
       "style": "IPY_MODEL_df3105d544c5424a9dc43c520dffba0f",
       "value": 10
      }
     }
    },
    "version_major": 2,
    "version_minor": 0
   }
  }
 },
 "nbformat": 4,
 "nbformat_minor": 0
}
